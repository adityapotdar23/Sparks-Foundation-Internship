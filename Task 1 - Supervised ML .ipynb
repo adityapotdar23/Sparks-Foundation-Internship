{
 "cells": [
  {
   "cell_type": "markdown",
   "id": "5ed515a8",
   "metadata": {},
   "source": [
    "# The Sparks Foundation - Data Science And Business Analytics Internship "
   ]
  },
  {
   "cell_type": "markdown",
   "id": "e47406bf",
   "metadata": {},
   "source": [
    "# Task 1 - Prediction Using Supervised Machine Learning\n",
    "\n",
    "\n",
    "## Task done by - Aditya Potdar"
   ]
  },
  {
   "cell_type": "markdown",
   "id": "badc3797",
   "metadata": {},
   "source": [
    "# Linear Regression With Python Scikit Learn\n",
    " \n",
    "In this section we will see how the Python Scikit-Learn Library for machine learning can be used to implement regression functions. We will start with simple regression involving two variables."
   ]
  },
  {
   "cell_type": "markdown",
   "id": "be447a62",
   "metadata": {},
   "source": [
    "# Simple Linear Regression\n",
    "\n",
    "In this regression task, we will predict the percentage of marks that a student is expected to score based upon the number of hours studied. This is a simple linear regression task as it involves just 2 variables."
   ]
  },
  {
   "cell_type": "markdown",
   "id": "4449b004",
   "metadata": {},
   "source": [
    "# Steps:-\n",
    "\n",
    "- Step 1: Loading/Importing the required libraries\n",
    "- Step 2: Reading Dataset\n",
    "- Step 3: Visualizing Dataset \n",
    "- Step 4: Preparing the data\n",
    "- Step 5: Training the algorithm & equation for model\n",
    "- Step 6: Visualizing the model\n",
    "- Step 7: Making Prediction\n",
    "- Step 8: Testing Model Using Own Test Data\n",
    "- Step 9: Evaluating the model\n"
   ]
  },
  {
   "cell_type": "markdown",
   "id": "b3a43620",
   "metadata": {},
   "source": [
    "# Step 1: Loading/Importing the required libraries"
   ]
  },
  {
   "cell_type": "code",
   "execution_count": 1,
   "id": "d39c9714",
   "metadata": {},
   "outputs": [],
   "source": [
    "# Importing required libraries\n",
    "import pandas as pd\n",
    "import numpy as np\n",
    "import matplotlib.pyplot as plt \n",
    "%matplotlib inline "
   ]
  },
  {
   "cell_type": "markdown",
   "id": "7780df7c",
   "metadata": {},
   "source": [
    "# Step 2: Reading Dataset"
   ]
  },
  {
   "cell_type": "code",
   "execution_count": 2,
   "id": "dc9c6010",
   "metadata": {},
   "outputs": [
    {
     "data": {
      "text/html": [
       "<div>\n",
       "<style scoped>\n",
       "    .dataframe tbody tr th:only-of-type {\n",
       "        vertical-align: middle;\n",
       "    }\n",
       "\n",
       "    .dataframe tbody tr th {\n",
       "        vertical-align: top;\n",
       "    }\n",
       "\n",
       "    .dataframe thead th {\n",
       "        text-align: right;\n",
       "    }\n",
       "</style>\n",
       "<table border=\"1\" class=\"dataframe\">\n",
       "  <thead>\n",
       "    <tr style=\"text-align: right;\">\n",
       "      <th></th>\n",
       "      <th>Hours</th>\n",
       "      <th>Scores</th>\n",
       "    </tr>\n",
       "  </thead>\n",
       "  <tbody>\n",
       "    <tr>\n",
       "      <th>0</th>\n",
       "      <td>2.5</td>\n",
       "      <td>21</td>\n",
       "    </tr>\n",
       "    <tr>\n",
       "      <th>1</th>\n",
       "      <td>5.1</td>\n",
       "      <td>47</td>\n",
       "    </tr>\n",
       "    <tr>\n",
       "      <th>2</th>\n",
       "      <td>3.2</td>\n",
       "      <td>27</td>\n",
       "    </tr>\n",
       "    <tr>\n",
       "      <th>3</th>\n",
       "      <td>8.5</td>\n",
       "      <td>75</td>\n",
       "    </tr>\n",
       "    <tr>\n",
       "      <th>4</th>\n",
       "      <td>3.5</td>\n",
       "      <td>30</td>\n",
       "    </tr>\n",
       "    <tr>\n",
       "      <th>5</th>\n",
       "      <td>1.5</td>\n",
       "      <td>20</td>\n",
       "    </tr>\n",
       "    <tr>\n",
       "      <th>6</th>\n",
       "      <td>9.2</td>\n",
       "      <td>88</td>\n",
       "    </tr>\n",
       "    <tr>\n",
       "      <th>7</th>\n",
       "      <td>5.5</td>\n",
       "      <td>60</td>\n",
       "    </tr>\n",
       "    <tr>\n",
       "      <th>8</th>\n",
       "      <td>8.3</td>\n",
       "      <td>81</td>\n",
       "    </tr>\n",
       "    <tr>\n",
       "      <th>9</th>\n",
       "      <td>2.7</td>\n",
       "      <td>25</td>\n",
       "    </tr>\n",
       "  </tbody>\n",
       "</table>\n",
       "</div>"
      ],
      "text/plain": [
       "   Hours  Scores\n",
       "0    2.5      21\n",
       "1    5.1      47\n",
       "2    3.2      27\n",
       "3    8.5      75\n",
       "4    3.5      30\n",
       "5    1.5      20\n",
       "6    9.2      88\n",
       "7    5.5      60\n",
       "8    8.3      81\n",
       "9    2.7      25"
      ]
     },
     "execution_count": 2,
     "metadata": {},
     "output_type": "execute_result"
    }
   ],
   "source": [
    "# Reading data\n",
    "url = \"http://bit.ly/w-data\"\n",
    "data = pd.read_csv(url)\n",
    "\n",
    "data.head(10)"
   ]
  },
  {
   "cell_type": "markdown",
   "id": "feb0f650",
   "metadata": {},
   "source": [
    "# Step 3: Visualizing the dataset"
   ]
  },
  {
   "cell_type": "markdown",
   "id": "6439d041",
   "metadata": {},
   "source": [
    "Visualizing the given data in a 2-D graph"
   ]
  },
  {
   "cell_type": "code",
   "execution_count": 3,
   "id": "5e02bc63",
   "metadata": {},
   "outputs": [
    {
     "data": {
      "image/png": "[encoded data removed]",
      "text/plain": [
       "<Figure size 432x288 with 1 Axes>"
      ]
     },
     "metadata": {
      "needs_background": "light"
     },
     "output_type": "display_data"
    }
   ],
   "source": [
    "data.plot(x='Hours', y='Scores', style='o')\n",
    "plt.title('Hours Vs. Percentage')\n",
    "plt.xlabel('Study Hours')\n",
    "plt.ylabel('Percentage Score')\n",
    "plt.show()"
   ]
  },
  {
   "cell_type": "markdown",
   "id": "dfe18971",
   "metadata": {},
   "source": [
    "From the above visualization, we can safely assume there is a positive linear relation between Study hours and Percentage Score."
   ]
  },
  {
   "cell_type": "markdown",
   "id": "b9769bcb",
   "metadata": {},
   "source": [
    "# Step 4: Preparing the data"
   ]
  },
  {
   "cell_type": "markdown",
   "id": "979cd18f",
   "metadata": {},
   "source": [
    "The next step is to divide the data into attributes('inputs') and labels('outputs')"
   ]
  },
  {
   "cell_type": "code",
   "execution_count": 4,
   "id": "5a702053",
   "metadata": {},
   "outputs": [],
   "source": [
    "X = data.iloc[:, :-1].values\n",
    "Y = data.iloc[:, 1].values"
   ]
  },
  {
   "cell_type": "markdown",
   "id": "b663948b",
   "metadata": {},
   "source": [
    "# Step 5: Training the algorithm and equation for model"
   ]
  },
  {
   "cell_type": "markdown",
   "id": "2357ce6d",
   "metadata": {},
   "source": [
    "Splitting the data into training and test sets. It is done using Scikit-Learn's built-in train_test_split() method."
   ]
  },
  {
   "cell_type": "code",
   "execution_count": 5,
   "id": "ed11ef2f",
   "metadata": {},
   "outputs": [],
   "source": [
    "from sklearn.model_selection import train_test_split"
   ]
  },
  {
   "cell_type": "code",
   "execution_count": 6,
   "id": "b3b70040",
   "metadata": {},
   "outputs": [],
   "source": [
    "# test_size = 0.2 means 20% used for testing purpose\n",
    "X_train, X_test, Y_train, Y_test = train_test_split(X, Y, test_size=0.2, random_state=0)"
   ]
  },
  {
   "cell_type": "code",
   "execution_count": 7,
   "id": "f3cfbe45",
   "metadata": {},
   "outputs": [],
   "source": [
    "from sklearn.linear_model import LinearRegression"
   ]
  },
  {
   "cell_type": "code",
   "execution_count": 8,
   "id": "4f7bba44",
   "metadata": {},
   "outputs": [
    {
     "name": "stdout",
     "output_type": "stream",
     "text": [
      "Training Complete!\n"
     ]
    }
   ],
   "source": [
    "regressor = LinearRegression()\n",
    "regressor.fit(X_train, Y_train)\n",
    "\n",
    "print(\"Training Complete!\")"
   ]
  },
  {
   "cell_type": "code",
   "execution_count": 9,
   "id": "9289cebe",
   "metadata": {},
   "outputs": [
    {
     "name": "stdout",
     "output_type": "stream",
     "text": [
      "The equation of the line is: y = [9.91065648] *X + 2.018160041434683\n"
     ]
    }
   ],
   "source": [
    "# Plotting the regression line \n",
    "m = regressor.coef_\n",
    "b = regressor.intercept_\n",
    "print(\"The equation of the line is: y =\", m, \"*X +\", b)"
   ]
  },
  {
   "cell_type": "markdown",
   "id": "ea622fd0",
   "metadata": {},
   "source": [
    "# Step 6: Visualizing the model"
   ]
  },
  {
   "cell_type": "code",
   "execution_count": 10,
   "id": "6dd14c98",
   "metadata": {},
   "outputs": [
    {
     "data": {
      "image/png": "[encoded data removed]",
      "text/plain": [
       "<Figure size 432x288 with 1 Axes>"
      ]
     },
     "metadata": {
      "needs_background": "light"
     },
     "output_type": "display_data"
    }
   ],
   "source": [
    "line = m*X + b\n",
    "# Plotting for the test data\n",
    "plt.scatter(X, Y)\n",
    "plt.plot(X, line, color='r')\n",
    "plt.show()"
   ]
  },
  {
   "cell_type": "markdown",
   "id": "1b04c7db",
   "metadata": {},
   "source": [
    "# Step 7: Making Predictions"
   ]
  },
  {
   "cell_type": "markdown",
   "id": "04b9e98f",
   "metadata": {},
   "source": [
    "Time to make predictions"
   ]
  },
  {
   "cell_type": "code",
   "execution_count": 11,
   "id": "4be7a77a",
   "metadata": {},
   "outputs": [
    {
     "name": "stdout",
     "output_type": "stream",
     "text": [
      "[[1.5]\n",
      " [3.2]\n",
      " [7.4]\n",
      " [2.5]\n",
      " [5.9]]\n"
     ]
    }
   ],
   "source": [
    "# Testing Data in Hours\n",
    "print(X_test)"
   ]
  },
  {
   "cell_type": "code",
   "execution_count": 12,
   "id": "3b33f042",
   "metadata": {},
   "outputs": [
    {
     "name": "stdout",
     "output_type": "stream",
     "text": [
      "Predicted Scores: [16.88414476 33.73226078 75.357018   26.79480124 60.49103328]\n"
     ]
    }
   ],
   "source": [
    "# Predicting the scores\n",
    "Y_pred = regressor.predict(X_test)\n",
    "print(\"Predicted Scores:\", Y_pred)"
   ]
  },
  {
   "cell_type": "code",
   "execution_count": 13,
   "id": "85ec383c",
   "metadata": {},
   "outputs": [
    {
     "data": {
      "text/html": [
       "<div>\n",
       "<style scoped>\n",
       "    .dataframe tbody tr th:only-of-type {\n",
       "        vertical-align: middle;\n",
       "    }\n",
       "\n",
       "    .dataframe tbody tr th {\n",
       "        vertical-align: top;\n",
       "    }\n",
       "\n",
       "    .dataframe thead th {\n",
       "        text-align: right;\n",
       "    }\n",
       "</style>\n",
       "<table border=\"1\" class=\"dataframe\">\n",
       "  <thead>\n",
       "    <tr style=\"text-align: right;\">\n",
       "      <th></th>\n",
       "      <th>Actual</th>\n",
       "      <th>Predicted</th>\n",
       "    </tr>\n",
       "  </thead>\n",
       "  <tbody>\n",
       "    <tr>\n",
       "      <th>0</th>\n",
       "      <td>20</td>\n",
       "      <td>16.884145</td>\n",
       "    </tr>\n",
       "    <tr>\n",
       "      <th>1</th>\n",
       "      <td>27</td>\n",
       "      <td>33.732261</td>\n",
       "    </tr>\n",
       "    <tr>\n",
       "      <th>2</th>\n",
       "      <td>69</td>\n",
       "      <td>75.357018</td>\n",
       "    </tr>\n",
       "    <tr>\n",
       "      <th>3</th>\n",
       "      <td>30</td>\n",
       "      <td>26.794801</td>\n",
       "    </tr>\n",
       "    <tr>\n",
       "      <th>4</th>\n",
       "      <td>62</td>\n",
       "      <td>60.491033</td>\n",
       "    </tr>\n",
       "  </tbody>\n",
       "</table>\n",
       "</div>"
      ],
      "text/plain": [
       "   Actual  Predicted\n",
       "0      20  16.884145\n",
       "1      27  33.732261\n",
       "2      69  75.357018\n",
       "3      30  26.794801\n",
       "4      62  60.491033"
      ]
     },
     "execution_count": 13,
     "metadata": {},
     "output_type": "execute_result"
    }
   ],
   "source": [
    "# Comparing Actual Vs. Predicted\n",
    "df = pd.DataFrame({'Actual': Y_test, 'Predicted': Y_pred})\n",
    "df"
   ]
  },
  {
   "cell_type": "code",
   "execution_count": 14,
   "id": "a551534b",
   "metadata": {},
   "outputs": [
    {
     "name": "stdout",
     "output_type": "stream",
     "text": [
      "Training Score: 0.9515510725211552\n",
      "Test Score: 0.9454906892105356\n"
     ]
    }
   ],
   "source": [
    "# Estimating Traing and Test Score \n",
    "print('Training Score:', regressor.score(X_train, Y_train))\n",
    "print('Test Score:', regressor.score(X_test, Y_test))"
   ]
  },
  {
   "cell_type": "code",
   "execution_count": 15,
   "id": "925e9541",
   "metadata": {},
   "outputs": [
    {
     "data": {
      "image/png": "[encoded data removed]",
      "text/plain": [
       "<Figure size 432x288 with 1 Axes>"
      ]
     },
     "metadata": {
      "needs_background": "light"
     },
     "output_type": "display_data"
    }
   ],
   "source": [
    "# Comparison using bar diagram\n",
    "df.plot(kind='bar', color=('b', 'g'))\n",
    "plt.xlabel('Hours')\n",
    "plt.ylabel('Scores')\n",
    "plt.title('Compare using bar diagram')\n",
    "plt.show()"
   ]
  },
  {
   "cell_type": "markdown",
   "id": "2b6a6b37",
   "metadata": {},
   "source": [
    "# Step 8: Testing model using own test data"
   ]
  },
  {
   "cell_type": "code",
   "execution_count": 16,
   "id": "8d041423",
   "metadata": {},
   "outputs": [
    {
     "name": "stdout",
     "output_type": "stream",
     "text": [
      "No. of hours: 9.25\n",
      "Predicted Percentage Score: 93.69173248737538\n"
     ]
    }
   ],
   "source": [
    "# Predicting score if student studies 9.25 hours/day\n",
    "hours = 9.25\n",
    "test = np.array([hours])\n",
    "test = test.reshape(-1,1)\n",
    "own_pred = regressor.predict(test)\n",
    "print('No. of hours:', hours)\n",
    "print('Predicted Percentage Score:', own_pred[0])"
   ]
  },
  {
   "cell_type": "markdown",
   "id": "c438be2e",
   "metadata": {},
   "source": [
    "# Step 9: Evaluating the model"
   ]
  },
  {
   "cell_type": "markdown",
   "id": "2f0d5f49",
   "metadata": {},
   "source": [
    "The final step is to evaluate the performance of the algorithm. This step is particularly important to compare how well different algorithms perform on a particular dataset. Here different errors are calculated to compare the model performance and predict the accuracy."
   ]
  },
  {
   "cell_type": "code",
   "execution_count": 17,
   "id": "615bb6ed",
   "metadata": {},
   "outputs": [
    {
     "name": "stdout",
     "output_type": "stream",
     "text": [
      "Mean Absolute Error: 4.183859899002975\n",
      "Mean Squared Error: 21.5987693072174\n",
      "Co-efficient of determination: 0.9454906892105356\n"
     ]
    }
   ],
   "source": [
    "from sklearn import metrics \n",
    "print('Mean Absolute Error:', metrics.mean_absolute_error(Y_test, Y_pred))\n",
    "print('Mean Squared Error:', metrics.mean_squared_error(Y_test, Y_pred))\n",
    "print('Co-efficient of determination:', metrics.r2_score(Y_test, Y_pred))"
   ]
  },
  {
   "cell_type": "markdown",
   "id": "878eafe7",
   "metadata": {},
   "source": [
    "Here co-efficient of determination is approximately 0.9455 which is actually a great score for this model."
   ]
  },
  {
   "cell_type": "markdown",
   "id": "8c8d166a",
   "metadata": {},
   "source": [
    "# Conclusion"
   ]
  },
  {
   "cell_type": "markdown",
   "id": "f276d9f1",
   "metadata": {},
   "source": [
    "I was successfully able to carry out Prediction using Supervised ML and was able to evaluate the model's performance on various parameters.\n",
    "Based on this model, we can conclude that student who is studying for 9.25 hours per day is expected to score 93.69%"
   ]
  },
  {
   "cell_type": "markdown",
   "id": "3f02bf44",
   "metadata": {},
   "source": [
    "# Thank You"
   ]
  }
 ],
 "metadata": {
  "kernelspec": {
   "display_name": "Python 3 (ipykernel)",
   "language": "python",
   "name": "python3"
  },
  "language_info": {
   "codemirror_mode": {
    "name": "ipython",
    "version": 3
   },
   "file_extension": ".py",
   "mimetype": "text/x-python",
   "name": "python",
   "nbconvert_exporter": "python",
   "pygments_lexer": "ipython3",
   "version": "3.9.7"
  }
 },
 "nbformat": 4,
 "nbformat_minor": 5
}
